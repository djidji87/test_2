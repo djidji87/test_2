{
 "cells": [
  {
   "cell_type": "markdown",
   "metadata": {},
   "source": [
    "Задание 1\n",
    "Создайте numpy array с элементами от числа N до 0 (например, для N = 10 это будет array([9, 8, 7, 6, 5, 4, 3, 2, 1, 0]))."
   ]
  },
  {
   "cell_type": "code",
   "execution_count": 3,
   "metadata": {},
   "outputs": [
    {
     "data": {
      "text/plain": [
       "array([9, 8, 7, 6, 5, 4, 3, 2, 1, 0])"
      ]
     },
     "execution_count": 3,
     "metadata": {},
     "output_type": "execute_result"
    }
   ],
   "source": [
    "import numpy as np\n",
    "n = 10\n",
    "np.arange(0, n)[::-1]"
   ]
  },
  {
   "cell_type": "markdown",
   "metadata": {},
   "source": [
    "Задание 2\n",
    "Создайте диагональную матрицу с элементами от N до 0. Посчитайте сумму ее значений на диагонали."
   ]
  },
  {
   "cell_type": "code",
   "execution_count": 18,
   "metadata": {},
   "outputs": [
    {
     "data": {
      "text/plain": [
       "45"
      ]
     },
     "execution_count": 18,
     "metadata": {},
     "output_type": "execute_result"
    }
   ],
   "source": [
    "import numpy as np\n",
    "n = 10\n",
    "matrica = np.arange(0, n)[::-1]\n",
    "np.sum(np.diag(matrica, k=0))"
   ]
  },
  {
   "cell_type": "markdown",
   "metadata": {},
   "source": [
    "Решите систему уравнений:\n",
    "\n",
    "4x + 2y + z = 4\n",
    "\n",
    "x + 3y = 12\n",
    "\n",
    "5y + 4z = -3"
   ]
  },
  {
   "cell_type": "code",
   "execution_count": 11,
   "metadata": {},
   "outputs": [
    {
     "data": {
      "text/plain": [
       "array([ 0.46666667,  3.84444444, -5.55555556])"
      ]
     },
     "execution_count": 11,
     "metadata": {},
     "output_type": "execute_result"
    }
   ],
   "source": [
    "import numpy as np\n",
    "from numpy import linalg\n",
    "a = np.array( [ [4, 2, 1], [1, 3, 0], [0, 5, 4] ] )\n",
    "b = np.array( [4, 12, -3] )\n",
    "linalg.solve(a, b)"
   ]
  },
  {
   "cell_type": "code",
   "execution_count": 12,
   "metadata": {},
   "outputs": [
    {
     "data": {
      "text/plain": [
       "True"
      ]
     },
     "execution_count": 12,
     "metadata": {},
     "output_type": "execute_result"
    }
   ],
   "source": [
    "np.allclose( np.dot(a, linalg.solve(a, b)), b )"
   ]
  },
  {
   "cell_type": "markdown",
   "metadata": {},
   "source": [
    "БОнусное задание с векторами"
   ]
  },
  {
   "cell_type": "code",
   "execution_count": 45,
   "metadata": {},
   "outputs": [
    {
     "name": "stdout",
     "output_type": "stream",
     "text": [
      "Новому пользователю соотвествует старый пользователь с номером 8 - индекс ссответсвия 0.9486832980505138\n"
     ]
    }
   ],
   "source": [
    "import matplotlib.pyplot as plt\n",
    "users_stats = np.array(\n",
    "    [\n",
    "        [2, 1, 0, 0, 0, 0],\n",
    "        [1, 1, 2, 1, 0, 0],\n",
    "        [2, 0, 1, 0, 0, 0],\n",
    "        [1, 1, 2, 1, 0, 1],\n",
    "        [0, 0, 1, 2, 0, 0],\n",
    "        [0, 0, 0, 0, 0, 5],\n",
    "        [1, 0, 0, 0, 0, 0],\n",
    "        [0, 1, 1, 0, 0, 0],\n",
    "        [0, 0, 0, 1, 1, 3],\n",
    "        [1, 0, 0, 2, 1, 4]\n",
    "    ], \n",
    "    np.int32\n",
    ")\n",
    "users_number_stats = [1, 2, 3, 4, 5, 6, 7, 8, 9, 10]\n",
    "\n",
    "next_user_stats = np.array([0, 1, 2, 0, 0, 0])\n",
    "\n",
    "z = []\n",
    "\n",
    "def ist_pr (z1, z2):\n",
    "    \"\"\"\n",
    "    Проверка соответсвия количества User ID с количеством строк в списке на обработку\n",
    "    \"\"\"\n",
    "    if len(z1) == len(z2):\n",
    "        cosine( a, b )\n",
    "        opred1()\n",
    "    else:\n",
    "        print('Количество элементов в users_stats не соответсвует количеству пользователей в users_number_stats')\n",
    "\n",
    "def cosine( a, b ):\n",
    "    \"\"\"\n",
    "    Подсчет косинуса угла между векторами a, b по их координатам\n",
    "    \"\"\"\n",
    "    # длины векторов\n",
    "    aLength = np.linalg.norm( a )\n",
    "    bLength = np.linalg.norm( b )\n",
    "    return np.dot( a, b ) / ( aLength * bLength )\n",
    "\n",
    "def opred1 ():\n",
    "    \"\"\"\n",
    "    Заполняем список Z значениями расчетов для каждого \"старого\" пользователя\n",
    "    \"\"\"\n",
    "    for i in users_stats:\n",
    "        z.append(cosine( i, next_user_stats ))\n",
    "    opred2()\n",
    "    \n",
    "def opred2 ():\n",
    "    \"\"\"\n",
    "    Проверка результатов и вывод\n",
    "    \"\"\"\n",
    "    if max(z) <= 0.3:\n",
    "        print('Новый пользователь мало похож на пользователей из текущей базы')\n",
    "        print('Новому пользователю соотвествует старый пользователь с номером {} - индекс сответсвия {}'.format(users_number_stats[z.index(max(z))], max(z)))\n",
    "    elif max(z) > 0.3 and max(z) <= 0.7:\n",
    "        print('Наблюдается среднее соответсвие между новым пользователем и пользователями из текущей базы')\n",
    "        print('Новому пользователю соотвествует старый пользователь с номером {} - индекс сответсвия {}'.format(users_number_stats[z.index(max(z))], max(z)))\n",
    "    elif max(z) > 0.7:\n",
    "        print('Новому пользователю соотвествует старый пользователь с номером {} - индекс сответсвия {}'.format(users_number_stats[z.index(max(z))], max(z)))\n",
    "\n",
    "ist_pr(users_number_stats, users_stats)"
   ]
  },
  {
   "cell_type": "code",
   "execution_count": null,
   "metadata": {},
   "outputs": [],
   "source": []
  }
 ],
 "metadata": {
  "kernelspec": {
   "display_name": "Python 3",
   "language": "python",
   "name": "python3"
  },
  "language_info": {
   "codemirror_mode": {
    "name": "ipython",
    "version": 3
   },
   "file_extension": ".py",
   "mimetype": "text/x-python",
   "name": "python",
   "nbconvert_exporter": "python",
   "pygments_lexer": "ipython3",
   "version": "3.7.4"
  }
 },
 "nbformat": 4,
 "nbformat_minor": 2
}
