{
 "cells": [
  {
   "cell_type": "markdown",
   "metadata": {},
   "source": [
    "Задание 1\n",
    "Напишите функцию date_range, которая возвращает список дней между датами start_date и end_date. Даты должны вводиться в формате YYYY-MM-DD."
   ]
  },
  {
   "cell_type": "code",
   "execution_count": 20,
   "metadata": {},
   "outputs": [
    {
     "name": "stdout",
     "output_type": "stream",
     "text": [
      "15\n",
      "16\n",
      "17\n",
      "18\n",
      "19\n",
      "20\n",
      "21\n",
      "22\n",
      "23\n",
      "24\n",
      "25\n",
      "26\n"
     ]
    }
   ],
   "source": [
    "from datetime import datetime\n",
    "from datetime import timedelta\n",
    "start_date = '2020-01-15'\n",
    "end_date = '2020-01-26'\n",
    "def date_range (start, end):\n",
    "    start_date_dt = datetime.strptime(start, '%Y-%m-%d')\n",
    "    end_date_dt = datetime.strptime(end, '%Y-%m-%d')\n",
    "    current_date_dt = start_date_dt\n",
    "    while current_date_dt <= end_date_dt:\n",
    "        print(current_date_dt.day)\n",
    "        current_date_dt += timedelta(days=1)\n",
    "\n",
    "date_range(start_date, end_date)"
   ]
  },
  {
   "cell_type": "markdown",
   "metadata": {},
   "source": [
    "Задание 2\n",
    "Дополните функцию из первого задания проверкой на корректность дат. В случае неверного формата или если start_date > end_date должен возвращаться пустой список."
   ]
  },
  {
   "cell_type": "code",
   "execution_count": 32,
   "metadata": {},
   "outputs": [
    {
     "name": "stdout",
     "output_type": "stream",
     "text": [
      "24\n",
      "25\n",
      "26\n"
     ]
    }
   ],
   "source": [
    "from datetime import datetime\n",
    "from datetime import timedelta\n",
    "start_date = '2020-01-24'\n",
    "end_date = '2020-01-26'\n",
    "def date_range (start, end):\n",
    "    try:\n",
    "        start_date_dt = datetime.strptime(start, '%Y-%m-%d')\n",
    "        end_date_dt = datetime.strptime(end, '%Y-%m-%d')\n",
    "        if start_date_dt > end_date_dt:\n",
    "            print('Начальная дата больше конечно!')\n",
    "    except:\n",
    "        z = []\n",
    "        print(z)\n",
    "    current_date_dt = start_date_dt\n",
    "    while current_date_dt <= end_date_dt:\n",
    "        print(current_date_dt.day)\n",
    "        current_date_dt += timedelta(days=1)\n",
    "\n",
    "date_range(start_date, end_date)"
   ]
  },
  {
   "cell_type": "markdown",
   "metadata": {},
   "source": [
    "Задание 3\n",
    "Дан поток дат в формате YYYY-MM-DD, в которых встречаются некорректные значения:\n",
    "stream = [‘2018-04-02’, ‘2018-02-29’, ‘2018-19-02’]\n",
    "\n",
    "Напишите функцию, которая проверяет эти даты на корректность. Т. е. для каждой даты возвращает True (дата корректна) или False (некорректная дата)."
   ]
  },
  {
   "cell_type": "code",
   "execution_count": 35,
   "metadata": {},
   "outputs": [
    {
     "name": "stdout",
     "output_type": "stream",
     "text": [
      "True\n",
      "False\n",
      "False\n"
     ]
    }
   ],
   "source": [
    "from datetime import datetime\n",
    "stream = ['2018-04-02', '2018-02-29', '2018-19-02']\n",
    "\n",
    "def strem_chak (potok):\n",
    "    for i in stream:\n",
    "        try:\n",
    "            datetime.strptime(i, '%Y-%m-%d')\n",
    "            print('True')\n",
    "        except:\n",
    "            print('False')\n",
    "\n",
    "strem_chak(stream)"
   ]
  },
  {
   "cell_type": "markdown",
   "metadata": {},
   "source": [
    "Задание 4 (бонусное)\n",
    "Ваш коллега прислал код функции:\n",
    "\n",
    "DEFAULT_USER_COUNT = 3\n",
    "\n",
    "def delete_and_return_last_user(region, default_list=[‘A100’, ‘A101’, ‘A102’]):\n",
    "\"\"“\n",
    "Удаляет из списка default_list последнего пользователя\n",
    "и возвращает ID нового последнего пользователя.\n",
    "”\"\"\n",
    "element_to_delete = default_list[-1]\n",
    "default_list.remove(element_to_delete)\n",
    "\n",
    "return default_list[DEFAULT_USER_COUNT-2]\n",
    "При однократном вызове этой функции все работает корректно:\n",
    "delete_and_return_last_user(1)\n",
    "‘A101’\n",
    "\n",
    "Однако, при повторном вызове получается ошибка IndexError: list index out of range.\n",
    "\n",
    "Задание:\n",
    "\n",
    "Что значит ошибка list index out of range?\n",
    "Почему при первом запуске функция работает корректно, а при втором - нет?\n"
   ]
  },
  {
   "cell_type": "markdown",
   "metadata": {},
   "source": [
    "Ответ\n",
    "\n",
    "Что значит ошибка list index out of range?\n",
    "\n",
    "Ошбика означает, что индекс, к которому происходит обращение, не сущесвтует.\n",
    "\n",
    "Почему при первом запуске функция работает корректно, а при втором - нет?\n",
    "Проблема здесь в default_list в связке со статичной переменной DEFAULT_USER_COUNT. Функции работают так, что значение по умолчаню инициируется только 1 раз - при запуске. Поэтому при первом запуске функции default_list пуолчает значение по умолчанию и тогда default_list[DEFAULT_USER_COUNT-2] = A101. Второй запуск приводит к старту, где default_list=['A100', 'A101']), а значит DEFAULT_USER_COUNT-2 приводит к 3 - 2 - такого индекса в новом списке уже нет, поскольку идет вновь обращение к A101, но повторным запуск мы его уже удалили.\n",
    "Решается проблема либо так как ниже (если списки могут быть разной длины), либо можно сделать сравнение if DEFAULT_USER_COUNT == len(default_list)."
   ]
  },
  {
   "cell_type": "code",
   "execution_count": 63,
   "metadata": {},
   "outputs": [
    {
     "name": "stdout",
     "output_type": "stream",
     "text": [
      "A101\n",
      "A100\n"
     ]
    },
    {
     "data": {
      "text/plain": [
       "'A100'"
      ]
     },
     "execution_count": 63,
     "metadata": {},
     "output_type": "execute_result"
    }
   ],
   "source": [
    "#DEFAULT_USER_COUNT = 3\n",
    "def delete_and_return_last_user(region, default_list=['A100', 'A101', 'A102']):\n",
    "    DEFAULT_USER_COUNT = len(default_list)\n",
    "    element_to_delete = default_list[-1]\n",
    "    default_list.remove(element_to_delete)\n",
    "    print(default_list[DEFAULT_USER_COUNT-2])\n",
    "    return default_list[DEFAULT_USER_COUNT-2]\n",
    "\n",
    "delete_and_return_last_user(1)\n",
    "delete_and_return_last_user(1)"
   ]
  }
 ],
 "metadata": {
  "kernelspec": {
   "display_name": "Python 3",
   "language": "python",
   "name": "python3"
  },
  "language_info": {
   "codemirror_mode": {
    "name": "ipython",
    "version": 3
   },
   "file_extension": ".py",
   "mimetype": "text/x-python",
   "name": "python",
   "nbconvert_exporter": "python",
   "pygments_lexer": "ipython3",
   "version": "3.7.4"
  }
 },
 "nbformat": 4,
 "nbformat_minor": 2
}
