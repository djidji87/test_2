{
 "cells": [
  {
   "cell_type": "markdown",
   "metadata": {},
   "source": [
    "**Задание 1**. Даны 2 строки: *long_phrase* и *short_phrase*. \n",
    "Напишите код, который проверяет действительно ли длинная фраза *long_phrase* длиннее короткой *short_phrase*. И выводит *True* или *False* в зависимости от результата сравнения."
   ]
  },
  {
   "cell_type": "code",
   "execution_count": 27,
   "metadata": {},
   "outputs": [],
   "source": [
    "long_phrase = 'Насколько проще было бы писать программы, если бы не заказчики'\n",
    "short_phrase = '640Кб должно хватить для любых задач. Билл Гейтс (по легенде)'"
   ]
  },
  {
   "cell_type": "code",
   "execution_count": 28,
   "metadata": {},
   "outputs": [
    {
     "name": "stdout",
     "output_type": "stream",
     "text": [
      "true. Длиннее на: 1 симв.\n"
     ]
    }
   ],
   "source": [
    "if len(long_phrase) > len(short_phrase):\n",
    "    x = len(long_phrase) - len(short_phrase)\n",
    "    print ('true. Длиннее на:',x, 'симв.')\n",
    "else:\n",
    "    x = len(short_phrase) - len(long_phrase)\n",
    "    print ('false. Короче на:',x, 'симв.')"
   ]
  },
  {
   "cell_type": "markdown",
   "metadata": {},
   "source": [
    "**Задание 2**. Дано значение объема файла в байтах. Напишите перевод этого значения в мегабайты в формате: \"*Объем файла равен 213.68Mb*\""
   ]
  },
  {
   "cell_type": "code",
   "execution_count": 29,
   "metadata": {},
   "outputs": [
    {
     "name": "stdout",
     "output_type": "stream",
     "text": [
      "Введите объем файла в байтах: 895612345\n",
      "Объем файла равен 854.12Mb\n"
     ]
    }
   ],
   "source": [
    "x = int(input('Введите объем файла в байтах: '))\n",
    "y = x / 1048576\n",
    "print('Объем файла равен ',round(y, 2),'Mb',sep='')"
   ]
  },
  {
   "cell_type": "markdown",
   "metadata": {},
   "source": [
    "**Задание 3**. Разработать приложение для определения знака зодиака по дате рождения. Пример:\n",
    "\n",
    "Введите месяц: март\n",
    "\n",
    "Введите число: 6\n",
    "\n",
    "Вывод:\n",
    "Рыбы"
   ]
  },
  {
   "cell_type": "code",
   "execution_count": 62,
   "metadata": {},
   "outputs": [
    {
     "name": "stdout",
     "output_type": "stream",
     "text": [
      "Введите месяц рождения: май\n",
      "Введите день рождения: 25\n",
      "Близнецы\n"
     ]
    }
   ],
   "source": [
    "y = input('Введите месяц рождения: ')\n",
    "if y == 'январь':\n",
    "    mes = 1\n",
    "elif y == 'февраль':\n",
    "    mes = 2\n",
    "elif y == 'февраль':\n",
    "    mes = 2\n",
    "elif y == 'март':\n",
    "    mes = 3\n",
    "elif y == 'апрель':\n",
    "    mes = 4\n",
    "elif y == 'май':\n",
    "    mes = 5\n",
    "elif y == 'июнь':\n",
    "    mes = 6\n",
    "elif y == 'июль':\n",
    "    mes = 7\n",
    "elif y == 'август':\n",
    "    mes = 8\n",
    "elif y == 'сентябрь':\n",
    "    mes = 9\n",
    "elif y == 'октябрь':\n",
    "    mes = 10\n",
    "elif y == 'ноябрь':\n",
    "    mes = 11\n",
    "elif y == 'декабрь':\n",
    "    mes = 12\n",
    "else:\n",
    "    print('Вы ввели неправельное название месяца.')\n",
    "\n",
    "\n",
    "d_r = int(input('Введите день рождения: '))\n",
    "if ((mes == 1 or mes == 3 or mes == 5 or mes == 7 or mes == 8 or mes == 10 or mes == 12) and (d_r > 31 or d_r < 1))\\\n",
    "            or((mes == 4 or mes == 6 or mes == 9 or mes == 11) and (d_r > 30 or d_r < 1)) or(mes == 2 and (d_r > 28 or d_r < 1)):\n",
    "    print('Вы ввели некорректный день')\n",
    "\n",
    "    \n",
    "if (mes == 1 and d_r <= 19) or (mes == 12 and d_r >= 22):\n",
    "    print('Козерог')\n",
    "elif (mes == 2 and d_r <= 18) or (mes == 1 and d_r >= 22):\n",
    "    print('Водолей')\n",
    "elif (mes == 3 and d_r <= 20) or (mes == 2 and d_r >= 19):\n",
    "    print('Рыбы')\n",
    "elif (mes == 4 and d_r <= 20) or (mes == 3 and d_r >= 21):\n",
    "    print('Овен')\n",
    "elif (mes == 5 and d_r <= 20) or (mes == 4 and d_r >= 21):\n",
    "    print('Телец')\n",
    "elif (mes == 6 and d_r <= 20) or (mes == 5 and d_r >= 21):\n",
    "    print('Близнецы')\n",
    "elif (mes == 7 and d_r <= 22) or (mes == 6 and d_r >= 21):\n",
    "    print('Рак')\n",
    "elif (mes == 8 and d_r <= 22) or (mes == 7 and d_r >= 23):\n",
    "    print('Лев')\n",
    "elif (mes == 9 and d_r <= 23) or (mes == 8 and d_r >= 23):\n",
    "    print('Дева')\n",
    "elif (mes == 10 and d_r <= 23) or (mes == 9 and d_r >= 24):\n",
    "    print('Весы')\n",
    "elif (mes == 11 and d_r <= 21) or (mes == 10 and d_r >= 24):\n",
    "    print('Скорпион')\n",
    "elif (mes == 12 and d_r <= 21) or (mes == 11 and d_r >= 22):\n",
    "    print('Стрелец')\n",
    "else:\n",
    "    print('Что-то пошло не так...')"
   ]
  },
  {
   "cell_type": "markdown",
   "metadata": {},
   "source": [
    "**Задание 4**. Нужно разработать приложение для финансового планирования.\n",
    "Приложение учитывает сколько уходит на ипотеку, \"на жизнь\" и сколько нужно отложить на пенсию.\n",
    "Пользователь вводит:\n",
    "- заработанную плату в месяц.\n",
    "- сколько процентов от ЗП уходит на ипотеку.\n",
    "- сколько процентов от ЗП уходит \"на жизнь\".\n",
    "- сколько раз приходит премия в год.\n",
    "\n",
    "Остальная часть заработанной платы откладывается на пенсию.\n",
    "\n",
    "Также пользователю приходит премия в размере зарплаты, от которой половина уходит на отпуск, а вторая половина откладывается.\n",
    "\n",
    "Программа должна учитывать сколько премий было в год.\n",
    "\n",
    "Нужно вывести сколько денег тратит пользователь на ипотеку и сколько он накопит за год.\n",
    "\n",
    "Пример:\n",
    "\n",
    "Введите заработанную плату в месяц: 100000\n",
    "\n",
    "Введите сколько процентов уходит на ипотеку: 30\n",
    "\n",
    "Введите сколько процентов уходит на жизнь: 50\n",
    "\n",
    "Введите количество премий за год: 2\n",
    "\n",
    "Вывод:\n",
    "На ипотеку было потрачено: 360000 рублей\n",
    "Было накоплено: 340000 рублей"
   ]
  },
  {
   "cell_type": "code",
   "execution_count": 31,
   "metadata": {},
   "outputs": [
    {
     "name": "stdout",
     "output_type": "stream",
     "text": [
      "Введите заработанную плату в месяц: 65000\n",
      "Введите сколько процентов уходит на ипотеку: 40\n",
      "Введите сколько процентов уходит на жизнь: 55\n",
      "Введите количество премий за год: 0\n",
      "На ипотеку было потрачено: 312000 рублей\n",
      "Было накоплено: 39000 рублей\n"
     ]
    }
   ],
   "source": [
    "zp = int(input('Введите заработанную плату в месяц: '))\n",
    "ipoteka = int(input('Введите сколько процентов уходит на ипотеку: '))\n",
    "zizn = int(input('Введите сколько процентов уходит на жизнь: '))\n",
    "premii = int(input('Введите количество премий за год: '))\n",
    "\n",
    "q = zp * 12 * (ipoteka / 100)\n",
    "w = zp * 12 * (zizn / 100)\n",
    "r = premii * zp * 0.5\n",
    "e = zp * 12 - q - w + r\n",
    "print ('На ипотеку было потрачено:',round(q),'рублей')\n",
    "print ('Было накоплено:',round(e),'рублей')"
   ]
  },
  {
   "cell_type": "markdown",
   "metadata": {},
   "source": [
    "Начинающий произносит число “1”, и каждый следующий игрок прибавляет к предыдущему значению единицу. Когда число делится на три оно заменяется на fizz, если число делится на пять, то произносится buzz. Числа, делящиеся на три и пять одновременно заменяются на fizz buzz. Сделавший ошибку игрок исключается из игры.\n",
    "\n",
    "Типичная партия в fizz buzz выглядит так:\n",
    "1, 2, Fizz, 4, Buzz, Fizz, 7, 8, Fizz, Buzz, 11, Fizz, 13, 14, Fizz Buzz, 16, 17, Fizz, 19, Buzz, Fizz, 22, 23, Fizz, Buzz, 26, Fizz, 28, 29, Fizz Buzz, 31, 32, Fizz, 34, Buzz, Fizz, …\n",
    "\n",
    "Напишите код, выводящий на экран первые n элементов этой игры (естественно, корректные).\n",
    "\n"
   ]
  },
  {
   "cell_type": "code",
   "execution_count": 61,
   "metadata": {
    "scrolled": true
   },
   "outputs": [
    {
     "name": "stdout",
     "output_type": "stream",
     "text": [
      "Введите количество цифр: 2\n",
      "1\n",
      "2\n"
     ]
    }
   ],
   "source": [
    "n = int(input('Введите количество цифр: '))\n",
    "i = 1\n",
    "\n",
    "for i in range (i,n+1):\n",
    "    if i%5 == 0 and i%3 == 0:\n",
    "        print('fizz buzz')\n",
    "    elif i%5 == 0:\n",
    "        print('buzz')\n",
    "    elif i%3 == 0:\n",
    "        print('fizz')\n",
    "    else:\n",
    "        print(i)"
   ]
  },
  {
   "cell_type": "markdown",
   "metadata": {},
   "source": [
    "Дано слово из латинских букв. Напишите скрипт, который выводит на экран букву из середины слова (если число букв нечетное). Если букв четное число, то на экран выводятся две буквы из середины.\n",
    "\n",
    "Для ‘test’ - 'es’\n",
    "Для ‘testing’ - ‘t’"
   ]
  },
  {
   "cell_type": "code",
   "execution_count": null,
   "metadata": {},
   "outputs": [],
   "source": [
    "x = input()\n",
    "if len(x)%2 == 0:\n",
    "    w1 = int(len(x) / 2 - 1)\n",
    "    w2 = int(len(x) / 2 + 1)\n",
    "    print(x[w1:w2])\n",
    "else:\n",
    "    w1 = int(len(x) // 2)\n",
    "    print(x[w1])"
   ]
  },
  {
   "cell_type": "code",
   "execution_count": null,
   "metadata": {},
   "outputs": [],
   "source": []
  },
  {
   "cell_type": "code",
   "execution_count": null,
   "metadata": {},
   "outputs": [],
   "source": []
  }
 ],
 "metadata": {
  "kernelspec": {
   "display_name": "Python 3",
   "language": "python",
   "name": "python3"
  },
  "language_info": {
   "codemirror_mode": {
    "name": "ipython",
    "version": 3
   },
   "file_extension": ".py",
   "mimetype": "text/x-python",
   "name": "python",
   "nbconvert_exporter": "python",
   "pygments_lexer": "ipython3",
   "version": "3.7.4"
  }
 },
 "nbformat": 4,
 "nbformat_minor": 2
}
