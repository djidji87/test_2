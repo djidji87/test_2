{
 "cells": [
  {
   "cell_type": "markdown",
   "metadata": {},
   "source": [
    "Используйте файл с оценками фильмов ml-latest-small/ratings.csv. Посчитайте среднее время жизни пользователей, которые выставили более 100 оценок. Под временем жизни понимается разница между максимальным и минимальным значением столбца timestamp для данного значения userI"
   ]
  },
  {
   "cell_type": "code",
   "execution_count": 23,
   "metadata": {},
   "outputs": [
    {
     "name": "stdout",
     "output_type": "stream",
     "text": [
      "Среднее время жизни пользователей 463.89 дней\n"
     ]
    }
   ],
   "source": [
    "#Пытаюсь разобраться в теме и логике, поэтому все усложняю. Но в целом даже к концу задания я не понял как это можно сделать в 2 строчки...\n",
    "\n",
    "import pandas as pd\n",
    "data = pd.read_csv('ml-latest-small/ratings.csv')\n",
    "\n",
    "#Функция находит разницу между максимальным и минимальный временем оценки. делим на 86400 (коилчество секунд в сутках)\n",
    "def raznica(row):\n",
    "    return (row['vrem_max'] - row ['vrem_min']) / 86400\n",
    "\n",
    "#Группируем всет пользователей по ID и считаем коилчество оценок. \n",
    "#Вводим дополнительный столбец \"kol_oc\" - коилчествоо ценок\n",
    "user_grouped = data.groupby('userId').count()[['movieId']]\n",
    "user_grouped.rename(columns={'movieId': 'kol_oc'}, inplace=True)\n",
    "\n",
    "#Получаем 2 столбца: макс и мин значения по времени оценки для каждого gjkmpjdfntkz\n",
    "user_grouped1 = data.groupby('userId').agg({'timestamp':['min','max']})\n",
    "\n",
    "#Объединяем датафреймы, оставляем только пользователей с коилчество оценок больше 100, переиминовываем столбцы.\n",
    "zzz = user_grouped.join(user_grouped1, how='left')\n",
    "zzz = zzz[zzz.kol_oc > 100]\n",
    "zzz.columns = ['userId', 'vrem_min', 'vrem_max',]\n",
    "\n",
    "#Запускаем функцию и поулчаем нужное значение\n",
    "zzz['class'] = zzz.apply(raznica, axis=1)\n",
    "zzz['class1'] = zzz.apply(raznica1, axis=1)\n",
    "print('Среднее время жизни пользователей {:.2f} дней'.format(zzz['class'].mean()))"
   ]
  },
  {
   "cell_type": "markdown",
   "metadata": {},
   "source": [
    "Вопрос: как можно обрабатывать столбцы, образующиеся после AGG? например, у меня поулчились 2 столбца '(timestamp_min)' и '(timestamp_max)'. Пытался в функции к ним обращаться - выдавало ошибку. Заменил азвание столбцов - все работает."
   ]
  },
  {
   "cell_type": "markdown",
   "metadata": {},
   "source": [
    "Дана статистика услуг перевозок клиентов компании по типам (см. файл с кодом занятия). Необходимо сформировать две таблицы:\n",
    "таблицу с тремя типами выручки для каждого client_id без указания адреса клиента\n",
    "аналогичную таблицу по типам выручки с указанием адреса клиента\n",
    "Обратите внимание, что в процессе объединения таблиц данные не должны теряться.\n",
    "\n"
   ]
  },
  {
   "cell_type": "code",
   "execution_count": 36,
   "metadata": {},
   "outputs": [
    {
     "name": "stdout",
     "output_type": "stream",
     "text": [
      "   client_id  rzd_revenue  auto_revenue  air_revenue\n",
      "0        111       1093.0           NaN          NaN\n",
      "1        112       2810.0           NaN          NaN\n",
      "2        113      10283.0       57483.0          NaN\n",
      "3        114       5774.0          83.0          NaN\n",
      "4        115        981.0         912.0         81.0\n",
      "5        116          NaN        4834.0          4.0\n",
      "6        117          NaN          98.0         13.0\n",
      "7        118          NaN           NaN        173.0\n",
      "\n",
      "   client_id  rzd_revenue  auto_revenue  air_revenue          address\n",
      "0        111       1093.0           NaN          NaN  Комсомольская 4\n",
      "1        112       2810.0           NaN          NaN   Энтузиастов 8а\n",
      "2        113      10283.0       57483.0          NaN  Левобережная 1а\n",
      "3        114       5774.0          83.0          NaN          Мира 14\n",
      "4        115        981.0         912.0         81.0        ЗЖБИиДК 1\n",
      "5        116          NaN        4834.0          4.0    Строителей 18\n",
      "6        117          NaN          98.0         13.0  Панфиловская 33\n",
      "7        118          NaN           NaN        173.0     Мастеркова 4\n"
     ]
    }
   ],
   "source": [
    "rzd = pd.DataFrame(\n",
    "    {\n",
    "        'client_id': [111, 112, 113, 114, 115],\n",
    "        'rzd_revenue': [1093, 2810, 10283, 5774, 981]\n",
    "    }\n",
    ")\n",
    "auto = pd.DataFrame(\n",
    "    {\n",
    "        'client_id': [113, 114, 115, 116, 117],\n",
    "        'auto_revenue': [57483, 83, 912, 4834, 98]\n",
    "    }\n",
    ")\n",
    "air = pd.DataFrame(\n",
    "    {\n",
    "        'client_id': [115, 116, 117, 118],\n",
    "        'air_revenue': [81, 4, 13, 173]\n",
    "    }\n",
    ")\n",
    "client_base = pd.DataFrame(\n",
    "    {\n",
    "        'client_id': [111, 112, 113, 114, 115, 116, 117, 118],\n",
    "        'address': ['Комсомольская 4', 'Энтузиастов 8а', 'Левобережная 1а', 'Мира 14', 'ЗЖБИиДК 1', \n",
    "                    'Строителей 18', 'Панфиловская 33', 'Мастеркова 4']\n",
    "    }\n",
    ")\n",
    "rez_table = rzd.merge(auto, how='outer').merge(air, how='outer')\n",
    "itog_table = rzd.merge(auto, how='outer').merge(air, how='outer').merge(client_base, how='outer')\n",
    "print(rez_table)\n",
    "print()\n",
    "print(itog_table)"
   ]
  },
  {
   "cell_type": "markdown",
   "metadata": {},
   "source": [
    "В задаче сквозной аналитики вам предоставили данные по местоположению пользователей. Т. е. для каждого user_id известна последовательность координат (широта/долгота), когда они требовались приложению для полноценной работы. Как бы вы добавили эти сведения в таблицу визитов и покупок? Для составления ответа можно использовать вопросы:\n",
    "- У каждого пользователя известен набор координат. А для связывания с визитом или фактом покупки скорее всего потребуется одно-два числа. Как их получить?\n",
    "- Наборы координат одного и того же пользователя могут быть значительно удалены друг от друга. Как это отразится на вопросе расчетах пункта 1?\n",
    "- Какие дополнительные признаки можно получить из координат? Ведь это просто числа, которые сами по себе мало что дают."
   ]
  },
  {
   "cell_type": "code",
   "execution_count": null,
   "metadata": {},
   "outputs": [],
   "source": []
  },
  {
   "cell_type": "code",
   "execution_count": null,
   "metadata": {},
   "outputs": [],
   "source": []
  }
 ],
 "metadata": {
  "kernelspec": {
   "display_name": "Python 3",
   "language": "python",
   "name": "python3"
  },
  "language_info": {
   "codemirror_mode": {
    "name": "ipython",
    "version": 3
   },
   "file_extension": ".py",
   "mimetype": "text/x-python",
   "name": "python",
   "nbconvert_exporter": "python",
   "pygments_lexer": "ipython3",
   "version": "3.7.4"
  }
 },
 "nbformat": 4,
 "nbformat_minor": 2
}
