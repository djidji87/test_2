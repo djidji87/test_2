{
 "cells": [
  {
   "cell_type": "markdown",
   "metadata": {},
   "source": [
    "# Домашнее задание к лекции \"Регулярные выражения\"\n",
    "Для зачета необходимо выполнить 4 задания.  \n",
    "Для зачета с отличием – все."
   ]
  },
  {
   "cell_type": "markdown",
   "metadata": {},
   "source": [
    "## Задание 1"
   ]
  },
  {
   "cell_type": "markdown",
   "metadata": {},
   "source": [
    "Напишите функцию, которая принимает на вход строку и проверяет является ли она валидным транспортным номером. Если да, то функция должна возвращать отдельно номер и регион."
   ]
  },
  {
   "cell_type": "code",
   "execution_count": 14,
   "metadata": {},
   "outputs": [
    {
     "name": "stdout",
     "output_type": "stream",
     "text": [
      "Введи номер автоа444аа777\n",
      "Номер является валидным\n",
      "Номер автомобиля 444\n",
      "Регион автомобиля 777\n"
     ]
    }
   ],
   "source": [
    "import re\n",
    "z = input(\"Введи номер авто\")\n",
    "regg = '^[а-яА-я]{1}\\d{3}[а-яА-Я]{2}\\d{2,3}$'\n",
    "proverka = len(re.findall(regg, z))\n",
    "if proverka > 0:\n",
    "    print('Номер является валидным')\n",
    "    zzz = re.findall('\\d+', z)\n",
    "    print('Номер автомобиля', zzz[0])\n",
    "    print('Регион автомобиля', zzz[1])\n",
    "else:\n",
    "    print('Номер НЕ является валидным')"
   ]
  },
  {
   "cell_type": "markdown",
   "metadata": {},
   "source": [
    "## Задание 2"
   ]
  },
  {
   "cell_type": "markdown",
   "metadata": {},
   "source": [
    "Напишите функцию, которая проверяет e-mail адрес на валидность по стандарту RFC822: http://www.w3.org/Protocols/rfc822/. Для этого постарайтесь написать (в крайнем случае найти) самый полный шаблон для проверки e-mail адресов через регулярное выражение. Разберитесь и напишите примеры, какие ваш шаблон может не охватить."
   ]
  },
  {
   "cell_type": "code",
   "execution_count": 56,
   "metadata": {},
   "outputs": [
    {
     "name": "stdout",
     "output_type": "stream",
     "text": [
      "Некорректный адрес почты\n",
      "\n"
     ]
    }
   ],
   "source": [
    "import re\n",
    "regg = '^\\w+@[a-zA-Z_]+?\\.[a-zA-Z]{2,6}$'\n",
    "pochta = 'asd78@yandex.ru'\n",
    "\n",
    "def cheking(regular, email):\n",
    "    q = ''\n",
    "    d = re.findall(regular, email)\n",
    "    if not d:\n",
    "        print('Некорректный адрес почты')\n",
    "    else:\n",
    "        q = d[0]\n",
    "    return q\n",
    "\n",
    "print(cheking(regg, pochta))"
   ]
  },
  {
   "cell_type": "markdown",
   "metadata": {},
   "source": [
    "Как минимум некорректно будут отрабоатаны ситуации:\n",
    "1. домен 2 и более уровня\n",
    "2. в лоиге используется символ \".\" или \"-\"\n",
    "3. в качестве логина используется номер телефона"
   ]
  },
  {
   "cell_type": "markdown",
   "metadata": {},
   "source": [
    "## Задание 3\n",
    "Напишите функцию, которая будет удалять все последовательные повторы слов из заданной строки."
   ]
  },
  {
   "cell_type": "code",
   "execution_count": 57,
   "metadata": {},
   "outputs": [
    {
     "name": "stdout",
     "output_type": "stream",
     "text": [
      "Какой то случайный текст с повторяющимися словами и цифрами 4 5 6\n"
     ]
    }
   ],
   "source": [
    "import re\n",
    "text = 'Какой-то случайный текст текст с повторяющимися словами и цифрами 4 4 5 5 6 6'\n",
    "z = re.findall('[\\w]+', text)\n",
    "def deleted(list_new):\n",
    "    i = 0\n",
    "    j = len(list_new)\n",
    "    new_list = []\n",
    "    while i < j:\n",
    "        if list_new[i] == list_new[i+1]:\n",
    "            del list_new[i+1]\n",
    "            j -= 1\n",
    "        i += 1\n",
    "    myString = ' '.join(list_new)\n",
    "    return myString\n",
    "\n",
    "\n",
    "print(deleted(z))"
   ]
  },
  {
   "cell_type": "markdown",
   "metadata": {},
   "source": [
    "## Задание 4\n",
    "Напишите функцию, которая будет проверять номер сотового телефона на валидность, если он валиден, то переводить его в формат:   \n",
    "+7(xxx)-xxx-xx-xx  \n",
    "Постарайтесь предусмотреть как можно больше адекватных форматов изначального ввода номера.\n",
    "Примеры правильных и неправильных форматов:\n",
    "- +7 955 555-55-55;\n",
    "- 955555555;\n",
    "- 8(955)555-55-55;\n",
    "- +7 955 555 55 55;\n",
    "- 7(955) 555-55-55;\n",
    "- +7 955+555+55+55."
   ]
  },
  {
   "cell_type": "code",
   "execution_count": 27,
   "metadata": {},
   "outputs": [
    {
     "name": "stdout",
     "output_type": "stream",
     "text": [
      "79555555555\n",
      "Валидный\n"
     ]
    }
   ],
   "source": [
    "import re\n",
    "zzz = re.findall('[\\w]*', '7(955) 555-55-55')\n",
    "qqq = len (zzz)\n",
    "strok = ''\n",
    "\n",
    "def deleted(list_new):\n",
    "    for i in list_new:\n",
    "        if i != '':\n",
    "            global strok\n",
    "            strok += i\n",
    "    return strok\n",
    "\n",
    "deleted(zzz)\n",
    "r = re.findall('^\\d{11}$', strok)\n",
    "\n",
    "if not r:\n",
    "    print('Не валидный номер')\n",
    "else:\n",
    "    print('Валидный номер')"
   ]
  },
  {
   "cell_type": "code",
   "execution_count": null,
   "metadata": {},
   "outputs": [],
   "source": []
  }
 ],
 "metadata": {
  "kernelspec": {
   "display_name": "Python 3",
   "language": "python",
   "name": "python3"
  },
  "language_info": {
   "codemirror_mode": {
    "name": "ipython",
    "version": 3
   },
   "file_extension": ".py",
   "mimetype": "text/x-python",
   "name": "python",
   "nbconvert_exporter": "python",
   "pygments_lexer": "ipython3",
   "version": "3.7.4"
  }
 },
 "nbformat": 4,
 "nbformat_minor": 2
}
