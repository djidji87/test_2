{
 "cells": [
  {
   "cell_type": "code",
   "execution_count": 120,
   "metadata": {},
   "outputs": [
    {
     "name": "stdout",
     "output_type": "stream",
     "text": [
      "В тексте 250 символов\n",
      "В тексте 65 слов\n",
      "Из этих слов 5 заканчиваются на s\n",
      "Из этих слов 0 начинается на m\n"
     ]
    }
   ],
   "source": [
    "import re\n",
    "strok = \"Mama, just killed a man, put a gun against his head, pulled my trigger, now he's dead. Mama, life had just begun, but now I've gone and thrown it all away. Mama, ooh (any way the wind blows), didn't mean to make you cry. If I'm not back again this time tomorrow carry on, carry on as if nothing really matters.\"\n",
    "zzz = re.findall('\\S', strok)\n",
    "zzz_p = len(zzz)\n",
    "def number_1 (simvol):\n",
    "    zzz2 = re.findall('([\\w]|\\')+['+simvol+']{1}(\\s|\\.|\\,)', strok)\n",
    "    zzz_p2 = len(zzz2)\n",
    "    print('Из этих слов {} заканчиваются на {}'.format(zzz_p2,simvol))\n",
    "\n",
    "zzz = re.findall('\\S', strok)\n",
    "zzz_p = len(zzz)\n",
    "zzz1 = re.findall('[\\w]+', strok)\n",
    "zzz_p1 = len(zzz1)\n",
    "print('В тексте {} символов'.format(zzz_p))\n",
    "print('В тексте {} слов'.format(zzz_p1))\n",
    "\n",
    "number_1('s')\n",
    "number_2('m')"
   ]
  },
  {
   "cell_type": "code",
   "execution_count": 98,
   "metadata": {},
   "outputs": [
    {
     "name": "stdout",
     "output_type": "stream",
     "text": [
      "261873\n"
     ]
    }
   ],
   "source": [
    "import random\n",
    "rrr = []\n",
    "x = random.randint (111111, 999999)\n",
    "y = random.randint (0, 5)\n",
    "x_new = str(x)\n",
    "for i in x_new:\n",
    "    rrr.append(i)\n",
    "rrr[y] = 3\n",
    "z = ''.join(str(kl) for kl in rrr)\n",
    "\n",
    "print(z)"
   ]
  },
  {
   "cell_type": "code",
   "execution_count": 99,
   "metadata": {},
   "outputs": [
    {
     "name": "stdout",
     "output_type": "stream",
     "text": [
      "212\n"
     ]
    }
   ],
   "source": [
    "list_01 = [1, 1, 2, 3, 5, 8, 13, 21, 34, 55, 89, 144, 233, 377, 610] \n",
    "summa_chisel = 0\n",
    "for i in list_01:\n",
    "    if i>10 and i <100:\n",
    "        summa_chisel += i\n",
    "print(summa_chisel)"
   ]
  },
  {
   "cell_type": "code",
   "execution_count": 110,
   "metadata": {},
   "outputs": [
    {
     "name": "stdout",
     "output_type": "stream",
     "text": [
      "{'0001': ['Антонов', 'Антон', 'Игоревич', '20.08.2009', 'NTCN89'], '1102': ['Богов', 'Артем', 'Игоревич', '25.01.2010', 'БСТ162'], '0333': ['Глаголева', 'Анастасия', 'Николаевна', '11.07.2009', 'БСТ163'], '4004': ['Степанова', 'Наталья', 'Александровна', '13.02.2008', 'БСТ161'], '0045': ['Боков', 'Игорь', 'Харитонович', '02.06.2009', 'БСТ161'], '0096': ['Васильков', 'Валентин', 'Сергеевич', '20.03.2009', 'БСТ164'], '0607': ['Сиропова', 'Виолетта', 'Эдуардовна', '28.05.2010', 'БСТ162'], '0309': ['Шафутинский', 'Михаил', 'Михайлович', '03.09.2007', 'БСТ163']}\n",
      " \n",
      "['Степанова', 'Наталья', 'Александровна']\n",
      "['Боков', 'Игорь', 'Харитонович']\n"
     ]
    }
   ],
   "source": [
    "students = [[\"0001\", \"Антонов\", \"Антон\", \"Игоревич\", \"20.08.2009\", \"БСТ161\"],     [\"1102\", \"Богов\", \"Артем\", \"Игоревич\", \"25.01.2010\", \"БСТ162\"], [\"0333\", \"Глаголева\", \"Анастасия\", \"Николаевна\", \"11.07.2009\", \"БСТ163\"],     [\"4004\", \"Степанова\", \"Наталья\", \"Александровна\", \"13.02.2008\", \"БСТ161\"],     [\"0045\", \"Боков\", \"Игорь\", \"Харитонович\", \"02.06.2009\", \"БСТ161\"],     [\"0096\", \"Васильков\", \"Валентин\", \"Сергеевич\", \"20.03.2009\", \"БСТ164\"],     [\"0607\", \"Сиропова\", \"Виолетта\", \"Эдуардовна\", \"28.05.2010\", \"БСТ162\"],     [\"0309\", \"Шафутинский\", \"Михаил\", \"Михайлович\", \"03.09.2007\", \"БСТ163\"]]\n",
    "students_new = {}\n",
    "\n",
    "#Перевод списка в словарь (задание 1)\n",
    "for i in students:\n",
    "    z = i[0]\n",
    "    del i[0]\n",
    "    students_new[z] = i\n",
    "\n",
    "#Функция под задание №2\n",
    "def new_data (id_stud, group_stud):\n",
    "    students_new[id_stud][-1] = group_stud\n",
    "    return students_new\n",
    "\n",
    "#Функция под задание №3\n",
    "def new_poisk (group_stud):\n",
    "    for value in students_new.values():\n",
    "        if value[-1] == group_stud:\n",
    "            print(value[0:3])\n",
    "\n",
    "print(new_data ('0001', 'NTCN89'))\n",
    "print(' ')\n",
    "new_poisk ('БСТ161')"
   ]
  },
  {
   "cell_type": "code",
   "execution_count": 119,
   "metadata": {},
   "outputs": [
    {
     "name": "stdout",
     "output_type": "stream",
     "text": [
      "89\n",
      "22\n"
     ]
    }
   ],
   "source": [
    "matrix = [ [0, 1, 2, 4, 8], [6, 2, 2, 1, 9], [3, 3, 3, 3, 3], [4, 6, 7, 1, 2], [5, 7, 3, 4, 0] ]\n",
    "matrix_1 = []\n",
    "\n",
    "summu_element = 0\n",
    "for i in matrix:\n",
    "    summu_element += sum(i)\n",
    "print(summu_element)\n",
    "\n",
    "i = 0\n",
    "while i < len(matrix[0]):\n",
    "    summu_element = 0\n",
    "    for y in matrix:\n",
    "        summu_element += y[i]\n",
    "    i += 1\n",
    "    matrix_1.append(summu_element)\n",
    "print(max(matrix_1))"
   ]
  },
  {
   "cell_type": "code",
   "execution_count": null,
   "metadata": {},
   "outputs": [],
   "source": []
  }
 ],
 "metadata": {
  "kernelspec": {
   "display_name": "Python 3",
   "language": "python",
   "name": "python3"
  },
  "language_info": {
   "codemirror_mode": {
    "name": "ipython",
    "version": 3
   },
   "file_extension": ".py",
   "mimetype": "text/x-python",
   "name": "python",
   "nbconvert_exporter": "python",
   "pygments_lexer": "ipython3",
   "version": "3.7.4"
  }
 },
 "nbformat": 4,
 "nbformat_minor": 2
}
