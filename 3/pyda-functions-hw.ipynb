{
 "cells": [
  {
   "cell_type": "markdown",
   "metadata": {},
   "source": [
    "## Задание 1"
   ]
  },
  {
   "cell_type": "markdown",
   "metadata": {},
   "source": [
    "Дан список вида:"
   ]
  },
  {
   "cell_type": "code",
   "execution_count": 12,
   "metadata": {},
   "outputs": [
    {
     "name": "stdout",
     "output_type": "stream",
     "text": [
      "103\n"
     ]
    }
   ],
   "source": [
    "data = [\n",
    "    [13, 25, 23, 34],\n",
    "    [45, 32, 44, 47],\n",
    "    [12, 33, 23, 95],\n",
    "    [13, 53, 34, 35]\n",
    "]\n",
    "\n",
    "def sum_elements(data):\n",
    "    sum_itog = 0\n",
    "    i = 0\n",
    "    for i in range(len(data)):\n",
    "        sum_itog += data[i][i]\n",
    "        i += 1\n",
    "    return sum_itog\n",
    "\n",
    "print(sum_elements(data))"
   ]
  },
  {
   "cell_type": "markdown",
   "metadata": {},
   "source": [
    "Напишите функцию, которая возвращает сумму элементов на диагонали. Т. е. 13+32+23+35.  \n",
    "Список может быть любой длины, но всегда является \"квадратным\" (количество элементов во вложенных списках равно их количеству)."
   ]
  },
  {
   "cell_type": "markdown",
   "metadata": {},
   "source": [
    "## Задание 2"
   ]
  },
  {
   "cell_type": "markdown",
   "metadata": {},
   "source": [
    "Напишите функцию, возвращающую сумму первых n чисел Фибоначчи (для этого вам может понадобится ознакомиться с рекурсией)."
   ]
  },
  {
   "cell_type": "markdown",
   "metadata": {},
   "source": [
    "Жуткая нехватка времени, поэтому детально вникать в то, что такое рекурсия и как с ней работать просто некогда. Сделал решение \"в лоб\". Считается все корректно. Надеюсь этого хватит, а с рекурсией уже будуразбираться при наличии времени."
   ]
  },
  {
   "cell_type": "code",
   "execution_count": 43,
   "metadata": {},
   "outputs": [
    {
     "data": {
      "text/plain": [
       "[0, 1, 1, 2, 3]"
      ]
     },
     "execution_count": 43,
     "metadata": {},
     "output_type": "execute_result"
    }
   ],
   "source": [
    "def fibonachim_chis (nomer, element0=0, element1=1):\n",
    "    fibo = []\n",
    "    fibo.append(element0)\n",
    "    fibo.append(element1)\n",
    "    i = 50\n",
    "    for i in range(nomer-2):\n",
    "        fibo.append(fibo[-1] + fibo[-2])\n",
    "        i += 1\n",
    "    return fibo\n",
    "\n",
    "fibonachim_chis(5)"
   ]
  },
  {
   "cell_type": "markdown",
   "metadata": {},
   "source": [
    "МОЖНО ВОПРОС ПО ЗАДАЧЕ? Испльзую в функции цикл. Задаю ему номер (например 5) для обхода и i в качестве счетчика. Возникло 2 анамалии, которые я не понимаю:\n",
    "1 - переменная i вообще неважна. Я ее вобще убирал, ставил значение 50 - все равно все работает. Но почему? Если i = 50, то цикл не должен же сработать. Или нужно исопльзовать while  и прямо задавать, что i < nomer?\n",
    "2 - Часть (range(nomer-2). Переменная на входе 5, а цикл считает  еще дополнительно 2 элемента. Собственно для этого я написал \"-2\", но почему оно делает 2 лишних обходя - я не понимаю."
   ]
  },
  {
   "cell_type": "markdown",
   "metadata": {},
   "source": [
    "## Задание 3\n"
   ]
  },
  {
   "cell_type": "markdown",
   "metadata": {},
   "source": [
    "Напишите функцию, преобразующую произвольный список вида ['2018-01-01', 'yandex', 'cpc', 100] (он может быть любой длины) в словарь {'2018-01-01': {'yandex': {'cpc': 100}}}"
   ]
  },
  {
   "cell_type": "code",
   "execution_count": 80,
   "metadata": {},
   "outputs": [
    {
     "data": {
      "text/plain": [
       "{'2018-01-01': {'yandex': {'cpc': 100}}}"
      ]
     },
     "execution_count": 80,
     "metadata": {},
     "output_type": "execute_result"
    }
   ],
   "source": [
    "spis = ['2018-01-01', 'yandex', 'cpc', 100]\n",
    "\n",
    "def iz_spiska_v_slovar(q): \n",
    "    i = 1\n",
    "    j = len(q)\n",
    "    while i < j:\n",
    "        new_spovar = {}\n",
    "        new_spovar[q[-2]] = q[-1]\n",
    "        del(q[-1])\n",
    "        del(q[-1])\n",
    "        q.append(new_spovar)\n",
    "        i += 1\n",
    "    return new_spovar\n",
    "\n",
    "iz_spiska_v_slovar(spis)"
   ]
  },
  {
   "cell_type": "markdown",
   "metadata": {},
   "source": [
    "## Задание 4"
   ]
  },
  {
   "cell_type": "markdown",
   "metadata": {},
   "source": [
    "Вы работаете секретарем и вам постоянно приходят различные документы. Вы должны быть очень внимательны, чтобы не потерять ни один документ. Каталог документов хранится в следующем виде:"
   ]
  },
  {
   "cell_type": "code",
   "execution_count": 83,
   "metadata": {},
   "outputs": [],
   "source": [
    "documents = [\n",
    "    {'type': 'passport', 'number': '2207 876234', 'name': 'Василий Гупкин'},\n",
    "    {'type': 'invoice', 'number': '11-2', 'name': 'Геннадий Покемонов'},\n",
    "    {'type': 'insurance', 'number': '10006', 'name': 'Аристарх Павлов'}\n",
    "]"
   ]
  },
  {
   "cell_type": "markdown",
   "metadata": {},
   "source": [
    "Перечень полок, на которых находятся документы хранится в следующем виде:"
   ]
  },
  {
   "cell_type": "code",
   "execution_count": 84,
   "metadata": {},
   "outputs": [],
   "source": [
    "directories = {\n",
    "    '1': ['2207 876234', '11-2', '5455 028765'],\n",
    "    '2': ['10006', '5400 028765', '5455 002299'],\n",
    "    '3': []\n",
    "}"
   ]
  },
  {
   "cell_type": "code",
   "execution_count": 102,
   "metadata": {},
   "outputs": [
    {
     "name": "stdout",
     "output_type": "stream",
     "text": [
      "Введите командуo\n",
      "Вы ввели некорректную команду\n"
     ]
    }
   ],
   "source": [
    "def user_comand():\n",
    "    user_input = str(input('Введите команду'))\n",
    "    if user_input == 'p':\n",
    "        people()\n",
    "    elif user_input == 's':\n",
    "        shelf()\n",
    "    elif user_input == 'l':\n",
    "        list_com()\n",
    "    elif user_input == 'as':\n",
    "        add_shelf()\n",
    "    elif user_input == 'd':\n",
    "        deleted()\n",
    "    elif user_input == 'm':\n",
    "        moves()\n",
    "    elif user_input == 'a':\n",
    "        addend()\n",
    "    else:\n",
    "        print('Вы ввели некорректную команду')\n",
    "\n",
    "def error_directories_none (num_element):\n",
    "    zzz = 0\n",
    "    ooii = []\n",
    "    while zzz < len(documents):\n",
    "        mmm = list(documents[zzz].values())[1]\n",
    "        ooii.append(mmm)\n",
    "        zzz += 1\n",
    "    return ooii.count(num_element)\n",
    "\n",
    "def error_nom_directories_none (num_element):\n",
    "    zzz = 0\n",
    "    ooii = list(directories.keys())\n",
    "    if num_element in ooii:\n",
    "        nneeww = 1\n",
    "        return nneeww\n",
    "    else:\n",
    "        print('Несущесвтующий номер полки')\n",
    "    \n",
    "\n",
    "def people():\n",
    "    p_input = input('Введите номер документа')\n",
    "    for i in documents:\n",
    "        poisk_doc = list(i.values())\n",
    "        if p_input == poisk_doc[1]:\n",
    "            print('Документ принадлежит: {}'.format(poisk_doc[2]))\n",
    "            break\n",
    "\n",
    "def shelf():\n",
    "    s_input = input('Введите номер документа')\n",
    "    proverka = error_directories_none(s_input)\n",
    "    if proverka > 0:\n",
    "        list_directories = list(directories.items())\n",
    "        for i in list_directories:\n",
    "            list_doc = i[1]\n",
    "            for j in list_doc:\n",
    "                if j == s_input:\n",
    "                    print('Полка, на которой лежит указанный документ: {}'.format(i[0]))\n",
    "                    break\n",
    "    else:\n",
    "        print('Некоректный номер документа')\n",
    "\n",
    "def list_com():\n",
    "    for i in documents:\n",
    "        poisk_doc = list(i.values())\n",
    "        print('**{} \"{}\" \"{}\"**'.format(poisk_doc[0], poisk_doc[1], poisk_doc[2]))\n",
    "\n",
    "def add_shelf():\n",
    "    as_input = input('Введите номер новой полки')\n",
    "    directories[as_input] = []\n",
    "    print(directories)\n",
    "\n",
    "def deleted():\n",
    "    d_input = input('Введите номер документа')\n",
    "    proverka = error_directories_none(d_input)\n",
    "    if proverka > 0:\n",
    "        z = 0\n",
    "        for k in documents:\n",
    "            poisk_doc = list(k.values())\n",
    "            if d_input == poisk_doc[1]:\n",
    "                del(documents[z])\n",
    "                doc_directories = list(directories.items())\n",
    "            z += 1\n",
    "        z = 0\n",
    "        x = list(directories.items())\n",
    "        for l in x:\n",
    "            x1 = l[1]\n",
    "            x2 = l[0]\n",
    "            if l[1].count(d_input) > 0:\n",
    "                del(directories[x2])\n",
    "                x1.remove(d_input)\n",
    "                directories[x2] = x1\n",
    "            z += 1\n",
    "    else:\n",
    "        print('Некоректный номер документа')\n",
    "            \n",
    "def moves():\n",
    "    m_input1 = input('Введите номер документа')\n",
    "    m_input2 = input('Введите номер целевой полки')\n",
    "    proverka = error_directories_none(m_input1)\n",
    "    proverka1 = error_nom_directories_none(m_input2)\n",
    "    if proverka > 0 and proverka1 > 0:\n",
    "        x = list(directories.items())\n",
    "        for l in x:\n",
    "            x1 = l[1]\n",
    "            x2 = l[0]\n",
    "            if l[1].count(m_input1) > 0:\n",
    "                del(directories[x2])\n",
    "                x1.remove(m_input1)\n",
    "                directories[x2] = x1\n",
    "            if x2 == m_input2:\n",
    "                x1.append(m_input1)\n",
    "                directories[x2] = x1\n",
    "    else:\n",
    "        print('Некорректные данные')\n",
    "            \n",
    "def addend():\n",
    "    a_input1 = str(input('Введите номер документа'))\n",
    "    a_input2 = str(input('Введите тип документа'))\n",
    "    a_input3 = str(input('Введите имя владельца документа'))\n",
    "    a_input4 = str(input('Введите номер целевой полки'))\n",
    "    wwwww = {}\n",
    "    wwwww['type'] = a_input2\n",
    "    wwwww['number'] = a_input1\n",
    "    wwwww['name'] = a_input3\n",
    "    documents.append(wwwww)\n",
    "    qw = directories[a_input4]\n",
    "    qw.append(a_input1)\n",
    "    del(directories[a_input4])\n",
    "    directories[a_input4] = qw\n",
    "\n",
    "    \n",
    "\n",
    "user_comand()"
   ]
  },
  {
   "cell_type": "markdown",
   "metadata": {},
   "source": [
    "Необходимо реализовать пользовательские команды (внимание! это не название функций, которые должны быть выразительными, а команды, которые вводит пользователь, чтобы получить необходимый результат):\n",
    "  \n",
    "- p – people – команда, которая спросит номер документа и выведет имя человека, которому он принадлежит;  \n",
    "- s – shelf – команда, которая спросит номер документа и выведет номер полки, на которой он находится  \n",
    "Правильно обработайте ситуацию, когда пользователь будет вводить несуществующий документ.\n",
    "- l – list – команда, которая выведет список всех документов в формате   \n",
    "**passport \"2207 876234\" \"Василий Гупкин\"**  \n",
    "- as – add shelf – команда, которая спросит номер новой полки и добавит ее в перечень\n",
    "- d – delete – команда, которая спросит номер документа и удалит его из каталога и из перечня полок. Предусмотрите сценарий, когда пользователь вводит несуществующий документ;  \n",
    "- m – move – команда, которая спросит номер документа и целевую полку и переместит его с текущей полки на целевую. Корректно обработайте кейсы, когда пользователь пытается переместить несуществующий документ или переместить документ на несуществующую полку;  \n",
    "- a – add – команда, которая добавит новый документ в каталог и в перечень полок, спросив его номер, тип, имя владельца и номер полки, на котором он будет храниться."
   ]
  },
  {
   "cell_type": "code",
   "execution_count": null,
   "metadata": {},
   "outputs": [],
   "source": []
  }
 ],
 "metadata": {
  "kernelspec": {
   "display_name": "Python 3",
   "language": "python",
   "name": "python3"
  },
  "language_info": {
   "codemirror_mode": {
    "name": "ipython",
    "version": 3
   },
   "file_extension": ".py",
   "mimetype": "text/x-python",
   "name": "python",
   "nbconvert_exporter": "python",
   "pygments_lexer": "ipython3",
   "version": "3.7.4"
  }
 },
 "nbformat": 4,
 "nbformat_minor": 2
}
